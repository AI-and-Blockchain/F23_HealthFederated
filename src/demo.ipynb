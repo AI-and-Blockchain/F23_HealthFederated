{
 "cells": [
  {
   "cell_type": "code",
   "execution_count": 1,
   "id": "b5cfb57b",
   "metadata": {},
   "outputs": [
    {
     "name": "stdout",
     "output_type": "stream",
     "text": [
      "Requirement already satisfied: web3 in /usr/local/anaconda3/lib/python3.11/site-packages (6.11.2)\n",
      "Requirement already satisfied: aiohttp>=3.7.4.post0 in /usr/local/anaconda3/lib/python3.11/site-packages (from web3) (3.8.5)\n",
      "Requirement already satisfied: eth-abi>=4.0.0 in /usr/local/anaconda3/lib/python3.11/site-packages (from web3) (4.2.1)\n",
      "Requirement already satisfied: eth-account>=0.8.0 in /usr/local/anaconda3/lib/python3.11/site-packages (from web3) (0.10.0)\n",
      "Requirement already satisfied: eth-hash[pycryptodome]>=0.5.1 in /usr/local/anaconda3/lib/python3.11/site-packages (from web3) (0.5.2)\n",
      "Requirement already satisfied: eth-typing>=3.0.0 in /usr/local/anaconda3/lib/python3.11/site-packages (from web3) (3.5.1)\n",
      "Requirement already satisfied: eth-utils>=2.1.0 in /usr/local/anaconda3/lib/python3.11/site-packages (from web3) (2.3.0)\n",
      "Requirement already satisfied: hexbytes<0.4.0,>=0.1.0 in /usr/local/anaconda3/lib/python3.11/site-packages (from web3) (0.3.1)\n",
      "Requirement already satisfied: jsonschema>=4.0.0 in /usr/local/anaconda3/lib/python3.11/site-packages (from web3) (4.17.3)\n",
      "Requirement already satisfied: lru-dict>=1.1.6 in /usr/local/anaconda3/lib/python3.11/site-packages (from web3) (1.2.0)\n",
      "Requirement already satisfied: protobuf>=4.21.6 in /usr/local/anaconda3/lib/python3.11/site-packages (from web3) (4.25.0)\n",
      "Requirement already satisfied: requests>=2.16.0 in /usr/local/anaconda3/lib/python3.11/site-packages (from web3) (2.31.0)\n",
      "Requirement already satisfied: typing-extensions>=4.0.1 in /usr/local/anaconda3/lib/python3.11/site-packages (from web3) (4.7.1)\n",
      "Requirement already satisfied: websockets>=10.0.0 in /usr/local/anaconda3/lib/python3.11/site-packages (from web3) (12.0)\n",
      "Requirement already satisfied: pyunormalize>=15.0.0 in /usr/local/anaconda3/lib/python3.11/site-packages (from web3) (15.0.0)\n",
      "Requirement already satisfied: attrs>=17.3.0 in /usr/local/anaconda3/lib/python3.11/site-packages (from aiohttp>=3.7.4.post0->web3) (22.1.0)\n",
      "Requirement already satisfied: charset-normalizer<4.0,>=2.0 in /usr/local/anaconda3/lib/python3.11/site-packages (from aiohttp>=3.7.4.post0->web3) (2.0.4)\n",
      "Requirement already satisfied: multidict<7.0,>=4.5 in /usr/local/anaconda3/lib/python3.11/site-packages (from aiohttp>=3.7.4.post0->web3) (6.0.2)\n",
      "Requirement already satisfied: async-timeout<5.0,>=4.0.0a3 in /usr/local/anaconda3/lib/python3.11/site-packages (from aiohttp>=3.7.4.post0->web3) (4.0.2)\n",
      "Requirement already satisfied: yarl<2.0,>=1.0 in /usr/local/anaconda3/lib/python3.11/site-packages (from aiohttp>=3.7.4.post0->web3) (1.8.1)\n",
      "Requirement already satisfied: frozenlist>=1.1.1 in /usr/local/anaconda3/lib/python3.11/site-packages (from aiohttp>=3.7.4.post0->web3) (1.3.3)\n",
      "Requirement already satisfied: aiosignal>=1.1.2 in /usr/local/anaconda3/lib/python3.11/site-packages (from aiohttp>=3.7.4.post0->web3) (1.2.0)\n",
      "Requirement already satisfied: parsimonious<0.10.0,>=0.9.0 in /usr/local/anaconda3/lib/python3.11/site-packages (from eth-abi>=4.0.0->web3) (0.9.0)\n",
      "Requirement already satisfied: bitarray>=2.4.0 in /usr/local/anaconda3/lib/python3.11/site-packages (from eth-account>=0.8.0->web3) (2.8.2)\n",
      "Requirement already satisfied: eth-keyfile>=0.6.0 in /usr/local/anaconda3/lib/python3.11/site-packages (from eth-account>=0.8.0->web3) (0.6.1)\n",
      "Requirement already satisfied: eth-keys>=0.4.0 in /usr/local/anaconda3/lib/python3.11/site-packages (from eth-account>=0.8.0->web3) (0.4.0)\n",
      "Requirement already satisfied: eth-rlp>=0.3.0 in /usr/local/anaconda3/lib/python3.11/site-packages (from eth-account>=0.8.0->web3) (0.3.0)\n",
      "Requirement already satisfied: rlp>=1.0.0 in /usr/local/anaconda3/lib/python3.11/site-packages (from eth-account>=0.8.0->web3) (3.0.0)\n",
      "Requirement already satisfied: pycryptodome<4,>=3.6.6 in /usr/local/anaconda3/lib/python3.11/site-packages (from eth-hash[pycryptodome]>=0.5.1->web3) (3.19.0)\n",
      "Requirement already satisfied: cytoolz>=0.10.1 in /usr/local/anaconda3/lib/python3.11/site-packages (from eth-utils>=2.1.0->web3) (0.12.0)\n",
      "Requirement already satisfied: pyrsistent!=0.17.0,!=0.17.1,!=0.17.2,>=0.14.0 in /usr/local/anaconda3/lib/python3.11/site-packages (from jsonschema>=4.0.0->web3) (0.18.0)\n",
      "Requirement already satisfied: idna<4,>=2.5 in /usr/local/anaconda3/lib/python3.11/site-packages (from requests>=2.16.0->web3) (3.4)\n",
      "Requirement already satisfied: urllib3<3,>=1.21.1 in /usr/local/anaconda3/lib/python3.11/site-packages (from requests>=2.16.0->web3) (1.26.16)\n",
      "Requirement already satisfied: certifi>=2017.4.17 in /usr/local/anaconda3/lib/python3.11/site-packages (from requests>=2.16.0->web3) (2023.7.22)\n",
      "Requirement already satisfied: toolz>=0.8.0 in /usr/local/anaconda3/lib/python3.11/site-packages (from cytoolz>=0.10.1->eth-utils>=2.1.0->web3) (0.12.0)\n",
      "Requirement already satisfied: regex>=2022.3.15 in /usr/local/anaconda3/lib/python3.11/site-packages (from parsimonious<0.10.0,>=0.9.0->eth-abi>=4.0.0->web3) (2022.7.9)\n",
      "Requirement already satisfied: eth-account in /usr/local/anaconda3/lib/python3.11/site-packages (0.10.0)\n",
      "Requirement already satisfied: bitarray>=2.4.0 in /usr/local/anaconda3/lib/python3.11/site-packages (from eth-account) (2.8.2)\n",
      "Requirement already satisfied: eth-abi>=4.0.0-b.2 in /usr/local/anaconda3/lib/python3.11/site-packages (from eth-account) (4.2.1)\n",
      "Requirement already satisfied: eth-keyfile>=0.6.0 in /usr/local/anaconda3/lib/python3.11/site-packages (from eth-account) (0.6.1)\n",
      "Requirement already satisfied: eth-keys>=0.4.0 in /usr/local/anaconda3/lib/python3.11/site-packages (from eth-account) (0.4.0)\n",
      "Requirement already satisfied: eth-rlp>=0.3.0 in /usr/local/anaconda3/lib/python3.11/site-packages (from eth-account) (0.3.0)\n",
      "Requirement already satisfied: eth-utils>=2.0.0 in /usr/local/anaconda3/lib/python3.11/site-packages (from eth-account) (2.3.0)\n",
      "Requirement already satisfied: hexbytes<0.4.0,>=0.1.0 in /usr/local/anaconda3/lib/python3.11/site-packages (from eth-account) (0.3.1)\n",
      "Requirement already satisfied: rlp>=1.0.0 in /usr/local/anaconda3/lib/python3.11/site-packages (from eth-account) (3.0.0)\n",
      "Requirement already satisfied: eth-typing>=3.0.0 in /usr/local/anaconda3/lib/python3.11/site-packages (from eth-abi>=4.0.0-b.2->eth-account) (3.5.1)\n",
      "Requirement already satisfied: parsimonious<0.10.0,>=0.9.0 in /usr/local/anaconda3/lib/python3.11/site-packages (from eth-abi>=4.0.0-b.2->eth-account) (0.9.0)\n",
      "Requirement already satisfied: pycryptodome<4,>=3.6.6 in /usr/local/anaconda3/lib/python3.11/site-packages (from eth-keyfile>=0.6.0->eth-account) (3.19.0)\n",
      "Requirement already satisfied: eth-hash>=0.3.1 in /usr/local/anaconda3/lib/python3.11/site-packages (from eth-utils>=2.0.0->eth-account) (0.5.2)\n",
      "Requirement already satisfied: cytoolz>=0.10.1 in /usr/local/anaconda3/lib/python3.11/site-packages (from eth-utils>=2.0.0->eth-account) (0.12.0)\n",
      "Requirement already satisfied: toolz>=0.8.0 in /usr/local/anaconda3/lib/python3.11/site-packages (from cytoolz>=0.10.1->eth-utils>=2.0.0->eth-account) (0.12.0)\n",
      "Requirement already satisfied: typing-extensions>=4.0.1 in /usr/local/anaconda3/lib/python3.11/site-packages (from eth-typing>=3.0.0->eth-abi>=4.0.0-b.2->eth-account) (4.7.1)\n",
      "Requirement already satisfied: regex>=2022.3.15 in /usr/local/anaconda3/lib/python3.11/site-packages (from parsimonious<0.10.0,>=0.9.0->eth-abi>=4.0.0-b.2->eth-account) (2022.7.9)\n",
      "Requirement already satisfied: eth-tester in /usr/local/anaconda3/lib/python3.11/site-packages (0.10.0b1)\n",
      "Requirement already satisfied: eth-abi>=3.0.1 in /usr/local/anaconda3/lib/python3.11/site-packages (from eth-tester) (4.2.1)\n",
      "Requirement already satisfied: eth-account>=0.6.0 in /usr/local/anaconda3/lib/python3.11/site-packages (from eth-tester) (0.10.0)\n",
      "Requirement already satisfied: eth-keys>=0.4.0 in /usr/local/anaconda3/lib/python3.11/site-packages (from eth-tester) (0.4.0)\n",
      "Requirement already satisfied: eth-utils>=2.0.0 in /usr/local/anaconda3/lib/python3.11/site-packages (from eth-tester) (2.3.0)\n",
      "Requirement already satisfied: rlp>=3.0.0 in /usr/local/anaconda3/lib/python3.11/site-packages (from eth-tester) (3.0.0)\n",
      "Requirement already satisfied: semantic-version>=2.6.0 in /usr/local/anaconda3/lib/python3.11/site-packages (from eth-tester) (2.10.0)\n",
      "Requirement already satisfied: eth-typing>=3.0.0 in /usr/local/anaconda3/lib/python3.11/site-packages (from eth-abi>=3.0.1->eth-tester) (3.5.1)\n",
      "Requirement already satisfied: parsimonious<0.10.0,>=0.9.0 in /usr/local/anaconda3/lib/python3.11/site-packages (from eth-abi>=3.0.1->eth-tester) (0.9.0)\n",
      "Requirement already satisfied: bitarray>=2.4.0 in /usr/local/anaconda3/lib/python3.11/site-packages (from eth-account>=0.6.0->eth-tester) (2.8.2)\n",
      "Requirement already satisfied: eth-keyfile>=0.6.0 in /usr/local/anaconda3/lib/python3.11/site-packages (from eth-account>=0.6.0->eth-tester) (0.6.1)\n"
     ]
    },
    {
     "name": "stdout",
     "output_type": "stream",
     "text": [
      "Requirement already satisfied: eth-rlp>=0.3.0 in /usr/local/anaconda3/lib/python3.11/site-packages (from eth-account>=0.6.0->eth-tester) (0.3.0)\n",
      "Requirement already satisfied: hexbytes<0.4.0,>=0.1.0 in /usr/local/anaconda3/lib/python3.11/site-packages (from eth-account>=0.6.0->eth-tester) (0.3.1)\n",
      "Requirement already satisfied: eth-hash>=0.3.1 in /usr/local/anaconda3/lib/python3.11/site-packages (from eth-utils>=2.0.0->eth-tester) (0.5.2)\n",
      "Requirement already satisfied: cytoolz>=0.10.1 in /usr/local/anaconda3/lib/python3.11/site-packages (from eth-utils>=2.0.0->eth-tester) (0.12.0)\n",
      "Requirement already satisfied: toolz>=0.8.0 in /usr/local/anaconda3/lib/python3.11/site-packages (from cytoolz>=0.10.1->eth-utils>=2.0.0->eth-tester) (0.12.0)\n",
      "Requirement already satisfied: pycryptodome<4,>=3.6.6 in /usr/local/anaconda3/lib/python3.11/site-packages (from eth-keyfile>=0.6.0->eth-account>=0.6.0->eth-tester) (3.19.0)\n",
      "Requirement already satisfied: typing-extensions>=4.0.1 in /usr/local/anaconda3/lib/python3.11/site-packages (from eth-typing>=3.0.0->eth-abi>=3.0.1->eth-tester) (4.7.1)\n",
      "Requirement already satisfied: regex>=2022.3.15 in /usr/local/anaconda3/lib/python3.11/site-packages (from parsimonious<0.10.0,>=0.9.0->eth-abi>=3.0.1->eth-tester) (2022.7.9)\n",
      "Requirement already satisfied: py-solc-x in /usr/local/anaconda3/lib/python3.11/site-packages (2.0.1)\n",
      "Requirement already satisfied: requests<3,>=2.19.0 in /usr/local/anaconda3/lib/python3.11/site-packages (from py-solc-x) (2.31.0)\n",
      "Requirement already satisfied: packaging<24,>=23.1 in /usr/local/anaconda3/lib/python3.11/site-packages (from py-solc-x) (23.1)\n",
      "Requirement already satisfied: charset-normalizer<4,>=2 in /usr/local/anaconda3/lib/python3.11/site-packages (from requests<3,>=2.19.0->py-solc-x) (2.0.4)\n",
      "Requirement already satisfied: idna<4,>=2.5 in /usr/local/anaconda3/lib/python3.11/site-packages (from requests<3,>=2.19.0->py-solc-x) (3.4)\n",
      "Requirement already satisfied: urllib3<3,>=1.21.1 in /usr/local/anaconda3/lib/python3.11/site-packages (from requests<3,>=2.19.0->py-solc-x) (1.26.16)\n",
      "Requirement already satisfied: certifi>=2017.4.17 in /usr/local/anaconda3/lib/python3.11/site-packages (from requests<3,>=2.19.0->py-solc-x) (2023.7.22)\n",
      "Requirement already satisfied: py-evm in /usr/local/anaconda3/lib/python3.11/site-packages (0.8.0b1)\n",
      "Requirement already satisfied: cached-property<2,>=1.5.1 in /usr/local/anaconda3/lib/python3.11/site-packages (from py-evm) (1.5.2)\n",
      "Requirement already satisfied: eth-bloom>=1.0.3 in /usr/local/anaconda3/lib/python3.11/site-packages (from py-evm) (3.0.0)\n",
      "Requirement already satisfied: eth-keys<0.5.0,>=0.4.0 in /usr/local/anaconda3/lib/python3.11/site-packages (from py-evm) (0.4.0)\n",
      "Requirement already satisfied: eth-typing<4.0.0,>=3.3.0 in /usr/local/anaconda3/lib/python3.11/site-packages (from py-evm) (3.5.1)\n",
      "Requirement already satisfied: eth-utils<3.0.0,>=2.0.0 in /usr/local/anaconda3/lib/python3.11/site-packages (from py-evm) (2.3.0)\n",
      "Requirement already satisfied: lru-dict>=1.1.6 in /usr/local/anaconda3/lib/python3.11/site-packages (from py-evm) (1.2.0)\n",
      "Requirement already satisfied: mypy-extensions>=1.0.0 in /usr/local/anaconda3/lib/python3.11/site-packages (from py-evm) (1.0.0)\n",
      "Requirement already satisfied: py-ecc<7.0.0,>=1.4.7 in /usr/local/anaconda3/lib/python3.11/site-packages (from py-evm) (6.0.0)\n",
      "Requirement already satisfied: rlp<4,>=3 in /usr/local/anaconda3/lib/python3.11/site-packages (from py-evm) (3.0.0)\n",
      "Requirement already satisfied: trie<3,>=2.0.0 in /usr/local/anaconda3/lib/python3.11/site-packages (from py-evm) (2.2.0)\n",
      "Requirement already satisfied: eth-hash[pycryptodome]>=0.4.0 in /usr/local/anaconda3/lib/python3.11/site-packages (from eth-bloom>=1.0.3->py-evm) (0.5.2)\n",
      "Requirement already satisfied: typing-extensions>=4.0.1 in /usr/local/anaconda3/lib/python3.11/site-packages (from eth-typing<4.0.0,>=3.3.0->py-evm) (4.7.1)\n",
      "Requirement already satisfied: cytoolz>=0.10.1 in /usr/local/anaconda3/lib/python3.11/site-packages (from eth-utils<3.0.0,>=2.0.0->py-evm) (0.12.0)\n",
      "Requirement already satisfied: hexbytes<0.4.0,>=0.2.0 in /usr/local/anaconda3/lib/python3.11/site-packages (from trie<3,>=2.0.0->py-evm) (0.3.1)\n",
      "Requirement already satisfied: sortedcontainers>=2.1.0 in /usr/local/anaconda3/lib/python3.11/site-packages (from trie<3,>=2.0.0->py-evm) (2.4.0)\n",
      "Requirement already satisfied: toolz>=0.8.0 in /usr/local/anaconda3/lib/python3.11/site-packages (from cytoolz>=0.10.1->eth-utils<3.0.0,>=2.0.0->py-evm) (0.12.0)\n",
      "Requirement already satisfied: pycryptodome<4,>=3.6.6 in /usr/local/anaconda3/lib/python3.11/site-packages (from eth-hash[pycryptodome]>=0.4.0->eth-bloom>=1.0.3->py-evm) (3.19.0)\n"
     ]
    }
   ],
   "source": [
    "!pip install web3\n",
    "!pip install eth-account\n",
    "!pip install eth-tester\n",
    "!pip install py-solc-x\n",
    "!pip install py-evm"
   ]
  },
  {
   "cell_type": "code",
   "execution_count": 2,
   "id": "599d7269",
   "metadata": {},
   "outputs": [
    {
     "name": "stderr",
     "output_type": "stream",
     "text": [
      "/usr/local/anaconda3/lib/python3.11/site-packages/torchvision/io/image.py:13: UserWarning: Failed to load image Python extension: 'dlopen(/usr/local/anaconda3/lib/python3.11/site-packages/torchvision/image.so, 0x0006): Symbol not found: (__ZN3c106detail19maybe_wrap_dim_slowIxEET_S2_S2_b)\n",
      "  Referenced from: '/usr/local/anaconda3/lib/python3.11/site-packages/torchvision/image.so'\n",
      "  Expected in: '/usr/local/anaconda3/lib/python3.11/site-packages/torch/lib/libc10.dylib''If you don't plan on using image functionality from `torchvision.io`, you can ignore this warning. Otherwise, there might be something wrong with your environment. Did you have `libjpeg` or `libpng` installed before building `torchvision` from source?\n",
      "  warn(\n"
     ]
    }
   ],
   "source": [
    "import numpy as np\n",
    "import torch\n",
    "import torch.nn as nn\n",
    "from torch.utils.data import DataLoader\n",
    "import torchvision\n",
    "import torchvision.transforms as transforms\n",
    "from torch.optim.lr_scheduler import ExponentialLR\n",
    "from torch.distributions.binomial import Binomial\n",
    "\n",
    "from models import ClientModel2Layers, ServerModel\n",
    "from Blockchain_and_VFL_Integration import BlockchainVFLIntegrator"
   ]
  },
  {
   "cell_type": "code",
   "execution_count": 3,
   "id": "2f9a24a9",
   "metadata": {},
   "outputs": [
    {
     "name": "stderr",
     "output_type": "stream",
     "text": [
      "/usr/local/anaconda3/lib/python3.11/site-packages/solcx/install.py:714: UnexpectedVersionWarning: Installed solc version is v0.8.23+commit.f704f362, expecting v0.8.23\n",
      "  warnings.warn(\n"
     ]
    }
   ],
   "source": [
    "# Create the blockchain integrator\n",
    "blockchain_vfl_integrator = BlockchainVFLIntegrator(4, \"./Aggregator.sol\")"
   ]
  },
  {
   "cell_type": "code",
   "execution_count": 4,
   "id": "e49f817a",
   "metadata": {},
   "outputs": [],
   "source": [
    "# Arguments and parameters\n",
    "num_clients = 4\n",
    "lr = 0.0001\n",
    "lr_decay = 0.9\n",
    "batch_size = 10\n",
    "num_epochs = 5\n",
    "quant_bin = 8 # quantization parameter\n",
    "theta = 0.15 # DP noise parameter in range [0, 0.25]"
   ]
  },
  {
   "cell_type": "code",
   "execution_count": 5,
   "id": "e0735e24",
   "metadata": {},
   "outputs": [
    {
     "name": "stderr",
     "output_type": "stream",
     "text": [
      "/usr/local/anaconda3/lib/python3.11/site-packages/torchvision/models/_utils.py:208: UserWarning: The parameter 'pretrained' is deprecated since 0.13 and may be removed in the future, please use 'weights' instead.\n",
      "  warnings.warn(\n",
      "/usr/local/anaconda3/lib/python3.11/site-packages/torchvision/models/_utils.py:223: UserWarning: Arguments other than a weight enum or `None` for 'weights' are deprecated since 0.13 and may be removed in the future. The current behavior is equivalent to passing `weights=ResNet50_Weights.IMAGENET1K_V1`. You can also use `weights=ResNet50_Weights.DEFAULT` to get the most up-to-date weights.\n",
      "  warnings.warn(msg)\n",
      "Downloading: \"https://download.pytorch.org/models/resnet50-0676ba61.pth\" to /Users/Sanjay/.cache/torch/hub/checkpoints/resnet50-0676ba61.pth\n"
     ]
    },
    {
     "data": {
      "application/vnd.jupyter.widget-view+json": {
       "model_id": "fbb3b91ddfb24b67aa798cd1821d0d05",
       "version_major": 2,
       "version_minor": 0
      },
      "text/plain": [
       "  0%|          | 0.00/97.8M [00:00<?, ?B/s]"
      ]
     },
     "metadata": {},
     "output_type": "display_data"
    },
    {
     "name": "stderr",
     "output_type": "stream",
     "text": [
      "/usr/local/anaconda3/lib/python3.11/site-packages/torchvision/models/_utils.py:223: UserWarning: Arguments other than a weight enum or `None` for 'weights' are deprecated since 0.13 and may be removed in the future. The current behavior is equivalent to passing `weights=VGG19_Weights.IMAGENET1K_V1`. You can also use `weights=VGG19_Weights.DEFAULT` to get the most up-to-date weights.\n",
      "  warnings.warn(msg)\n",
      "Downloading: \"https://download.pytorch.org/models/vgg19-dcbb9e9d.pth\" to /Users/Sanjay/.cache/torch/hub/checkpoints/vgg19-dcbb9e9d.pth\n"
     ]
    },
    {
     "data": {
      "application/vnd.jupyter.widget-view+json": {
       "model_id": "084273ad385b408d8f9f2d7065add56e",
       "version_major": 2,
       "version_minor": 0
      },
      "text/plain": [
       "  0%|          | 0.00/548M [00:00<?, ?B/s]"
      ]
     },
     "metadata": {},
     "output_type": "display_data"
    }
   ],
   "source": [
    "# Make models for each client\n",
    "models = []\n",
    "optimizers = []\n",
    "schedulers = []\n",
    "\n",
    "for i in range(num_clients+1):\n",
    "    if i == num_clients:\n",
    "        model = ServerModel()\n",
    "    else:\n",
    "        model = ClientModel2Layers()\n",
    "    optimizer = torch.optim.Adam(model.parameters(), lr=lr)\n",
    "    scheduler = ExponentialLR(optimizer, gamma=lr_decay)\n",
    "    \n",
    "    models.append(model)\n",
    "    optimizers.append(optimizer)\n",
    "    schedulers.append(scheduler)\n",
    "\n",
    "criterion = nn.CrossEntropyLoss()"
   ]
  },
  {
   "cell_type": "code",
   "execution_count": 6,
   "id": "97fa083a",
   "metadata": {},
   "outputs": [],
   "source": [
    "# Discrete differential privacy noise\n",
    "def quantize(x, theta, m):\n",
    "    p = torch.add(0.5, torch.mul(theta, x))\n",
    "\n",
    "    binom = Binomial(m, p)\n",
    "    noise = binom.sample()\n",
    "    \n",
    "    y = x.clone()\n",
    "    y.data = noise\n",
    "    \n",
    "    return y\n",
    "\n",
    "def dequantize(q, theta, m, n):\n",
    "    det = torch.sub(q, m * n / 2)\n",
    "    sum = torch.div(det, theta * m)\n",
    "    return sum"
   ]
  },
  {
   "cell_type": "code",
   "execution_count": 8,
   "id": "f7ec54d6",
   "metadata": {},
   "outputs": [],
   "source": [
    "# Load datasets\n",
    "transform = transforms.Compose([\n",
    "    transforms.Resize((224, 224)),\n",
    "    transforms.ColorJitter(brightness=0.2, contrast=0.2, saturation=0.2, hue=0.2),\n",
    "    transforms.ToTensor(),])\n",
    "\n",
    "train_loaders = []\n",
    "val_loaders = []\n",
    "test_loaders = []\n",
    "\n",
    "train_val_permute = np.random.permutation(np.arange(989))\n",
    "train_permute = train_val_permute[:10]\n",
    "val_permute = train_val_permute[10:20]\n",
    "test_permute = np.random.permutation(np.arange(563))[:10]\n",
    "\n",
    "for i in range(num_clients):\n",
    "    train_dataset = torchvision.datasets.ImageFolder(root=f'SplitCovid19/client{i}/train', transform=transform)\n",
    "    train_data = torch.utils.data.Subset(train_dataset, indices=train_permute)\n",
    "    val_data = torch.utils.data.Subset(train_dataset, indices=val_permute)\n",
    "    train_loader = DataLoader(train_data, batch_size=batch_size, shuffle=False,  num_workers=1)\n",
    "    train_loaders.append(train_loader)\n",
    "    val_loader = DataLoader(val_data, batch_size=batch_size, shuffle=False,  num_workers=1)\n",
    "    val_loaders.append(val_loader)\n",
    "    test_dataset = torchvision.datasets.ImageFolder(root=f'SplitCovid19/client{i}/test', transform=transform)\n",
    "    test_data = torch.utils.data.Subset(test_dataset, indices=test_permute)\n",
    "    test_loader = DataLoader(test_data, batch_size=batch_size, shuffle=False, num_workers=1)\n",
    "    test_loaders.append(test_loader)"
   ]
  },
  {
   "cell_type": "code",
   "execution_count": 16,
   "id": "dc60b9da",
   "metadata": {},
   "outputs": [],
   "source": [
    "# train function\n",
    "def train_with_blockchain():\n",
    "    \n",
    "    targets = None\n",
    "    embeddings_grad = [None] * num_clients\n",
    "    embeddings_nograd = [None] * num_clients\n",
    "    \n",
    "    completed = False\n",
    "    train_iterators = []\n",
    "    for i in range(num_clients):\n",
    "        train_iterators.append(iter(train_loaders[i]))\n",
    "    \n",
    "    while not completed:\n",
    "        # At party side\n",
    "        for i in range(num_clients):\n",
    "            # get current batch\n",
    "            item = next(train_iterators[i], -1)\n",
    "            \n",
    "            if item == -1:\n",
    "                completed = True\n",
    "                break\n",
    "            \n",
    "            inputs, targets = item\n",
    "\n",
    "            # generate embedding\n",
    "            embeddings_grad[i] = models[i](inputs)\n",
    "            with torch.no_grad():\n",
    "                embeddings_nograd[i] = models[i](inputs)\n",
    "\n",
    "            # add differential privacy noise\n",
    "            embeddings_nograd[i] = quantize(embeddings_nograd[i], theta, quant_bin)\n",
    "\n",
    "            # send embeddings (embeddings_nograd[i]) to smart contract\n",
    "            client_parameters = [list(map(int, row)) for row in embeddings_nograd[i].tolist()]\n",
    "            blockchain_vfl_integrator.update_client_weights(blockchain_vfl_integrator.client_accounts[i], client_parameters)\n",
    "        \n",
    "        if completed:\n",
    "            break\n",
    "\n",
    "        # At server side\n",
    "        # retrieve the embedding sum from smart contract\n",
    "        blockchain_vfl_integrator.aggregate_weights()\n",
    "        with torch.no_grad():\n",
    "            sum_nograd = torch.tensor(blockchain_vfl_integrator.get_aggregated_weights())\n",
    "\n",
    "        # dequantize the discrete sum into continuous sum\n",
    "        sum_nograd = dequantize(sum_nograd, theta, quant_bin, num_clients)\n",
    "        sum_grad = torch.sum(torch.stack(embeddings_grad),axis=0)\n",
    "        sum_grad.data = sum_nograd\n",
    "\n",
    "        # compute outputs\n",
    "        outputs = models[num_clients](sum_grad)\n",
    "        loss = criterion(outputs, targets)\n",
    "\n",
    "        # parties and server compute gradient and do SGD step\n",
    "        for i in range(num_clients + 1):\n",
    "            optimizers[i].zero_grad()\n",
    "        loss.backward()\n",
    "        for i in range(num_clients + 1):\n",
    "            optimizers[i].step()\n",
    "    \n",
    "        # parties and server calculate new learning rate\n",
    "        for i in range(num_clients + 1):\n",
    "            schedulers[i].step()\n",
    "            \n",
    "    del train_iterators"
   ]
  },
  {
   "cell_type": "code",
   "execution_count": 17,
   "id": "c07963c6",
   "metadata": {},
   "outputs": [],
   "source": [
    "# evaluation function for validation and testing\n",
    "def evaluate(mode):\n",
    "    # validation or testing\n",
    "    data_iterators = []\n",
    "    for i in range(num_clients):\n",
    "        if mode == 'validation':\n",
    "            data_iterators.append(iter(val_loaders[i]))\n",
    "        else:\n",
    "            data_iterators.append(iter(test_loaders[i]))\n",
    "    \n",
    "    # initialize variables\n",
    "    embeddings = [None] * num_clients\n",
    "    targets = None\n",
    "    completed = False\n",
    "    total = 0\n",
    "    correct = 0\n",
    "    total_loss = 0\n",
    "    n = 0\n",
    "    \n",
    "    while not completed:\n",
    "        # At party side\n",
    "        for i in range(num_clients):\n",
    "            # get current batch\n",
    "            item = next(data_iterators[i], -1)\n",
    "            \n",
    "            if item == -1:\n",
    "                completed = True\n",
    "                break\n",
    "            \n",
    "            inputs, targets = item\n",
    "\n",
    "            # generate embedding\n",
    "            embeddings[i] = models[i](inputs)\n",
    "        \n",
    "        if completed:\n",
    "            break\n",
    "\n",
    "        # At server side\n",
    "        embedding_sum = torch.sum(torch.stack(embeddings),axis=0)\n",
    "\n",
    "        # compute outputs\n",
    "        outputs = models[num_clients](embedding_sum)\n",
    "        loss = criterion(outputs, targets)\n",
    "        _, predicted = torch.max(outputs.data, 1)\n",
    "\n",
    "        # compute accuracy\n",
    "        correct += (predicted == targets).sum()\n",
    "        total += targets.size(0)\n",
    "\n",
    "        # compute loss\n",
    "        total_loss += loss\n",
    "        n += 1\n",
    "    \n",
    "    del data_iterators\n",
    "    accuracy = 100 * correct / total\n",
    "    loss = total_loss / n\n",
    "\n",
    "    return (accuracy, loss)"
   ]
  },
  {
   "cell_type": "code",
   "execution_count": 18,
   "id": "4c84d002",
   "metadata": {},
   "outputs": [
    {
     "name": "stderr",
     "output_type": "stream",
     "text": [
      "/usr/local/anaconda3/lib/python3.11/site-packages/torchvision/io/image.py:13: UserWarning: Failed to load image Python extension: 'dlopen(/usr/local/anaconda3/lib/python3.11/site-packages/torchvision/image.so, 0x0006): Symbol not found: (__ZN3c106detail19maybe_wrap_dim_slowIxEET_S2_S2_b)\n",
      "  Referenced from: '/usr/local/anaconda3/lib/python3.11/site-packages/torchvision/image.so'\n",
      "  Expected in: '/usr/local/anaconda3/lib/python3.11/site-packages/torch/lib/libc10.dylib''If you don't plan on using image functionality from `torchvision.io`, you can ignore this warning. Otherwise, there might be something wrong with your environment. Did you have `libjpeg` or `libpng` installed before building `torchvision` from source?\n",
      "  warn(\n",
      "/usr/local/anaconda3/lib/python3.11/site-packages/torchvision/io/image.py:13: UserWarning: Failed to load image Python extension: 'dlopen(/usr/local/anaconda3/lib/python3.11/site-packages/torchvision/image.so, 0x0006): Symbol not found: (__ZN3c106detail19maybe_wrap_dim_slowIxEET_S2_S2_b)\n",
      "  Referenced from: '/usr/local/anaconda3/lib/python3.11/site-packages/torchvision/image.so'\n",
      "  Expected in: '/usr/local/anaconda3/lib/python3.11/site-packages/torch/lib/libc10.dylib''If you don't plan on using image functionality from `torchvision.io`, you can ignore this warning. Otherwise, there might be something wrong with your environment. Did you have `libjpeg` or `libpng` installed before building `torchvision` from source?\n",
      "  warn(\n",
      "/usr/local/anaconda3/lib/python3.11/site-packages/torchvision/io/image.py:13: UserWarning: Failed to load image Python extension: 'dlopen(/usr/local/anaconda3/lib/python3.11/site-packages/torchvision/image.so, 0x0006): Symbol not found: (__ZN3c106detail19maybe_wrap_dim_slowIxEET_S2_S2_b)\n",
      "  Referenced from: '/usr/local/anaconda3/lib/python3.11/site-packages/torchvision/image.so'\n",
      "  Expected in: '/usr/local/anaconda3/lib/python3.11/site-packages/torch/lib/libc10.dylib''If you don't plan on using image functionality from `torchvision.io`, you can ignore this warning. Otherwise, there might be something wrong with your environment. Did you have `libjpeg` or `libpng` installed before building `torchvision` from source?\n",
      "  warn(\n",
      "/usr/local/anaconda3/lib/python3.11/site-packages/torchvision/io/image.py:13: UserWarning: Failed to load image Python extension: 'dlopen(/usr/local/anaconda3/lib/python3.11/site-packages/torchvision/image.so, 0x0006): Symbol not found: (__ZN3c106detail19maybe_wrap_dim_slowIxEET_S2_S2_b)\n",
      "  Referenced from: '/usr/local/anaconda3/lib/python3.11/site-packages/torchvision/image.so'\n",
      "  Expected in: '/usr/local/anaconda3/lib/python3.11/site-packages/torch/lib/libc10.dylib''If you don't plan on using image functionality from `torchvision.io`, you can ignore this warning. Otherwise, there might be something wrong with your environment. Did you have `libjpeg` or `libpng` installed before building `torchvision` from source?\n",
      "  warn(\n"
     ]
    }
   ],
   "source": [
    "# Demo: main code demonstrating how a training round work with smart contract integration\n",
    "train_with_blockchain()"
   ]
  },
  {
   "cell_type": "code",
   "execution_count": null,
   "id": "e3f28ab2",
   "metadata": {},
   "outputs": [],
   "source": []
  },
  {
   "cell_type": "code",
   "execution_count": null,
   "id": "2bb4db25",
   "metadata": {},
   "outputs": [],
   "source": []
  }
 ],
 "metadata": {
  "kernelspec": {
   "display_name": "Python 3 (ipykernel)",
   "language": "python",
   "name": "python3"
  },
  "language_info": {
   "codemirror_mode": {
    "name": "ipython",
    "version": 3
   },
   "file_extension": ".py",
   "mimetype": "text/x-python",
   "name": "python",
   "nbconvert_exporter": "python",
   "pygments_lexer": "ipython3",
   "version": "3.11.5"
  }
 },
 "nbformat": 4,
 "nbformat_minor": 5
}
